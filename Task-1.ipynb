{
 "cells": [
  {
   "cell_type": "code",
   "execution_count": 1,
   "id": "8bc41e15-9338-448b-97ab-5a4b47714801",
   "metadata": {},
   "outputs": [
    {
     "name": "stdout",
     "output_type": "stream",
     "text": [
      "Updated list: [12, 3, 4, 5, 8]\n"
     ]
    }
   ],
   "source": [
    "list = [1,2,3,4,5]\n",
    "#add an element in a list\n",
    "list.append(8)\n",
    "#remove an element in a list\n",
    "list.remove(2)\n",
    "#modifying an element in a list\n",
    "list[0]=12\n",
    "\n",
    "print(\"Updated list:\",list)"
   ]
  },
  {
   "cell_type": "code",
   "execution_count": 4,
   "id": "73b47db2-77d7-446c-ba8f-86ce7f5e6a93",
   "metadata": {},
   "outputs": [
    {
     "name": "stdout",
     "output_type": "stream",
     "text": [
      "Updated dictionary: {'name': 'Adithya', 'age': 21, 'city': 'Mumbai', 'Gender': 'Male'}\n"
     ]
    }
   ],
   "source": [
    "dict={'name':'Adithya', 'age':21, 'city': 'Hyderabad'}\n",
    "#add \n",
    "dict['Gender'] = 'Male'\n",
    "#remove\n",
    "dict['age']\n",
    "#modify\n",
    "dict['city'] = 'Mumbai'\n",
    "\n",
    "print(\"Updated dictionary:\", dict)"
   ]
  },
  {
   "cell_type": "code",
   "execution_count": 5,
   "id": "db03bc11-32fe-4008-b4e5-bcfe7a8f903a",
   "metadata": {},
   "outputs": [
    {
     "name": "stdout",
     "output_type": "stream",
     "text": [
      "Updated set: {1, 3, 4, 21, 15}\n"
     ]
    }
   ],
   "source": [
    "set = {1,2,3,4,5}\n",
    "#adding an element\n",
    "set.add(15)\n",
    "#remove an element\n",
    "set.remove(5)\n",
    "#modify an element\n",
    "set.discard(2)\n",
    "set.add(21)\n",
    "\n",
    "print(\"Updated set:\", set)"
   ]
  },
  {
   "cell_type": "code",
   "execution_count": null,
   "id": "53bfd729-fbf3-4762-b5ba-fa66f3a8acd9",
   "metadata": {},
   "outputs": [],
   "source": []
  }
 ],
 "metadata": {
  "kernelspec": {
   "display_name": "Python 3 (ipykernel)",
   "language": "python",
   "name": "python3"
  },
  "language_info": {
   "codemirror_mode": {
    "name": "ipython",
    "version": 3
   },
   "file_extension": ".py",
   "mimetype": "text/x-python",
   "name": "python",
   "nbconvert_exporter": "python",
   "pygments_lexer": "ipython3",
   "version": "3.12.3"
  }
 },
 "nbformat": 4,
 "nbformat_minor": 5
}
